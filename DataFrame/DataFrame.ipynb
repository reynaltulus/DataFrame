{
 "cells": [
  {
   "cell_type": "code",
   "execution_count": 1,
   "metadata": {},
   "outputs": [
    {
     "name": "stdout",
     "output_type": "stream",
     "text": [
      "DataFrame Awal:\n",
      "  Kabupaten/Kota  Jumlah Produksi Sampah (ton)  Tahun\n",
      "0        Bandung                          1500   2023\n",
      "1          Bogor                          1800   2023\n",
      "2         Bekasi                          2000   2023\n",
      "3         Cimahi                          1300   2023\n",
      "4        Cirebon                          1400   2023\n",
      "5          Depok                          1700   2023\n",
      "6          Garut                          1200   2024\n",
      "7    Tasikmalaya                          1100   2024\n",
      "8       Sukabumi                          1250   2024\n",
      "9       Sumedang                          1350   2024\n"
     ]
    }
   ],
   "source": [
    "# Import pustaka pandas\n",
    "import pandas as pd\n",
    "\n",
    "# 1. Membuat DataFrame jumlah produksi sampah berdasarkan Kabupaten/Kota di Jawa Barat\n",
    "data_dict = {\n",
    "    \"Kabupaten/Kota\": [\n",
    "        \"Bandung\", \"Bogor\", \"Bekasi\", \"Cimahi\", \"Cirebon\",\n",
    "        \"Depok\", \"Garut\", \"Tasikmalaya\", \"Sukabumi\", \"Sumedang\"\n",
    "    ],\n",
    "    \"Jumlah Produksi Sampah (ton)\": [1500, 1800, 2000, 1300, 1400, 1700, 1200, 1100, 1250, 1350],\n",
    "    \"Tahun\": [2023, 2023, 2023, 2023, 2023, 2023, 2024, 2024, 2024, 2024]\n",
    "}\n",
    "\n",
    "# Membuat DataFrame\n",
    "df = pd.DataFrame(data_dict)\n",
    "print(\"DataFrame Awal:\")\n",
    "print(df)"
   ]
  },
  {
   "cell_type": "code",
   "execution_count": 35,
   "metadata": {},
   "outputs": [
    {
     "name": "stdout",
     "output_type": "stream",
     "text": [
      "\n",
      "Total Produksi Sampah di Jawa Barat Tahun 2024: 4900 ton\n"
     ]
    }
   ],
   "source": [
    "tahun_target = 2024\n",
    "total_sampah = 0\n",
    "\n",
    "for index, row in df.iterrows():\n",
    "    if row[\"Tahun\"] == tahun_target:\n",
    "        total_sampah += row[\"Jumlah Produksi Sampah (ton)\"]\n",
    "\n",
    "print(f\"\\nTotal Produksi Sampah di Jawa Barat Tahun {tahun_target}: {total_sampah} ton\")"
   ]
  },
  {
   "cell_type": "code",
   "execution_count": 36,
   "metadata": {},
   "outputs": [
    {
     "name": "stdout",
     "output_type": "stream",
     "text": [
      "\n",
      "Jumlah Produksi Sampah Per Tahun: {2023: 9700, 2024: 4900}\n"
     ]
    }
   ],
   "source": [
    "# Menjumlahkan data per tahun menggunakan iterrows\n",
    "jumlah_per_tahun = {}\n",
    "for index, row in df.iterrows():\n",
    "    tahun = row[\"Tahun\"]\n",
    "    produksi = row[\"Jumlah Produksi Sampah (ton)\"]\n",
    "    \n",
    "    # Periksa apakah tahun sudah ada di dictionary\n",
    "    if tahun in jumlah_per_tahun:\n",
    "        jumlah_per_tahun[tahun] += produksi\n",
    "    else:\n",
    "        jumlah_per_tahun[tahun] = produksi\n",
    "\n",
    "# Menampilkan hasil jumlah per tahun langsung\n",
    "print(\"\\nJumlah Produksi Sampah Per Tahun:\", jumlah_per_tahun)"
   ]
  },
  {
   "cell_type": "code",
   "execution_count": 28,
   "metadata": {},
   "outputs": [
    {
     "name": "stdout",
     "output_type": "stream",
     "text": [
      "  Kabupaten/Kota  Tahun  Total Produksi Sampah (ton)\n",
      "0        Bandung   2023                         1500\n",
      "1          Bogor   2023                         1800\n",
      "2         Bekasi   2023                         2000\n",
      "3         Cimahi   2023                         1300\n",
      "4        Cirebon   2023                         1400\n",
      "5          Depok   2023                         1700\n",
      "6          Garut   2024                         1200\n",
      "7    Tasikmalaya   2024                         1100\n",
      "8       Sukabumi   2024                         1250\n",
      "9       Sumedang   2024                         1350\n"
     ]
    }
   ],
   "source": [
    "# Menjumlahkan data per Kota/Kabupaten per tahun menggunakan iterrows\n",
    "jumlah_per_kota_tahun = {}\n",
    "\n",
    "for index, row in df.iterrows():\n",
    "    kota = row[\"Kabupaten/Kota\"]\n",
    "    tahun = row[\"Tahun\"]\n",
    "    produksi = row[\"Jumlah Produksi Sampah (ton)\"]\n",
    "    \n",
    "    # Gabungkan kota dan tahun sebagai key, dan langsung lakukan penjumlahan\n",
    "    if (kota, tahun) in jumlah_per_kota_tahun:\n",
    "        jumlah_per_kota_tahun[(kota, tahun)] += produksi\n",
    "    else:\n",
    "        jumlah_per_kota_tahun[(kota, tahun)] = produksi\n",
    "\n",
    "# Mengubah hasil ke dalam DataFrame\n",
    "result = pd.DataFrame(\n",
    "    [(kota, tahun, total) for (kota, tahun), total in jumlah_per_kota_tahun.items()],\n",
    "    columns=[\"Kabupaten/Kota\", \"Tahun\", \"Total Produksi Sampah (ton)\"]\n",
    ")\n",
    "\n",
    "# Menampilkan hasil\n",
    "print(result)\n"
   ]
  },
  {
   "cell_type": "code",
   "execution_count": 33,
   "metadata": {},
   "outputs": [
    {
     "name": "stdout",
     "output_type": "stream",
     "text": [
      "\n",
      "Hasil telah diekspor ke 'hasil_produksi_sampah.csv' dan 'hasil_produksi_sampah.xlsx'\n"
     ]
    }
   ],
   "source": [
    "result.to_csv(\"hasil_produksi_sampah.csv\", index=False)\n",
    "result.to_excel(\"hasil_produksi_sampah.xlsx\", index=False)\n",
    "\n",
    "print(\"\\nHasil telah diekspor ke 'hasil_produksi_sampah.csv' dan 'hasil_produksi_sampah.xlsx'\")\n"
   ]
  },
  {
   "cell_type": "code",
   "execution_count": 32,
   "metadata": {},
   "outputs": [
    {
     "name": "stdout",
     "output_type": "stream",
     "text": [
      "Collecting openpyxl\n",
      "  Downloading openpyxl-3.1.5-py2.py3-none-any.whl.metadata (2.5 kB)\n",
      "Collecting et-xmlfile (from openpyxl)\n",
      "  Downloading et_xmlfile-2.0.0-py3-none-any.whl.metadata (2.7 kB)\n",
      "Downloading openpyxl-3.1.5-py2.py3-none-any.whl (250 kB)\n",
      "Downloading et_xmlfile-2.0.0-py3-none-any.whl (18 kB)\n",
      "Installing collected packages: et-xmlfile, openpyxl\n",
      "Successfully installed et-xmlfile-2.0.0 openpyxl-3.1.5\n"
     ]
    }
   ],
   "source": [
    "!pip install openpyxl"
   ]
  }
 ],
 "metadata": {
  "kernelspec": {
   "display_name": "Python 3",
   "language": "python",
   "name": "python3"
  },
  "language_info": {
   "codemirror_mode": {
    "name": "ipython",
    "version": 3
   },
   "file_extension": ".py",
   "mimetype": "text/x-python",
   "name": "python",
   "nbconvert_exporter": "python",
   "pygments_lexer": "ipython3",
   "version": "3.13.1"
  }
 },
 "nbformat": 4,
 "nbformat_minor": 2
}
